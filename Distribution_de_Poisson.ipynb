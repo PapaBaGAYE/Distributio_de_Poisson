{
  "nbformat": 4,
  "nbformat_minor": 0,
  "metadata": {
    "colab": {
      "name": "Distribution de Poisson.ipynb",
      "provenance": [],
      "collapsed_sections": []
    },
    "kernelspec": {
      "name": "python3",
      "display_name": "Python 3"
    },
    "language_info": {
      "name": "python"
    }
  },
  "cells": [
    {
      "cell_type": "markdown",
      "source": [
        "# DISTRIBUTION DE POISON\n",
        "---\n",
        "    E(X) = lambda_\n",
        "    Var(X) = lambda_\n",
        "    fonction de densité : P(X=k) = lambda_ ** x * exp(- lambda_)) / factorial(x)\n",
        "\n",
        "    args :\n",
        "         - lambda_ : un nombre réel strictement positif\n",
        "         - x : étant un entier naturel, k = 0, 1, 2…\n",
        "         \n",
        "    returns :\n",
        "         - Ω : l'univers\n",
        "         - E(X) : Espérance de la variable aléatoire X\n",
        "         - Var(X) : Variance de la variable aléatoire X\n",
        "         - densité : problabilité de X = k\n",
        "         - repartition : problabilité de X <= k\n",
        "         - proba : les problabilités\n",
        "---"
      ],
      "metadata": {
        "id": "ZIPqKFqfpFhe"
      }
    },
    {
      "cell_type": "code",
      "source": [
        "import pandas as pd\n",
        "import matplotlib.pyplot as plt\n",
        "import plotly.express as px\n",
        "from math import *"
      ],
      "metadata": {
        "id": "T7HOoT_6ijeE"
      },
      "execution_count": 1,
      "outputs": []
    },
    {
      "cell_type": "code",
      "execution_count": 2,
      "metadata": {
        "id": "S0J8gy5ggGfx"
      },
      "outputs": [],
      "source": [
        "def poisson(lambda_, x):\n",
        "    \"\"\"\n",
        "    DISTRIBUTION DE POISSON\n",
        "    ===================================\n",
        "    E(X) = lambda_\n",
        "    Var(X) = lambda_\n",
        "    fonction de densité : P(X=x) = lambda_ ** x * exp(- lambda_)) / factorial(x)\n",
        "\n",
        "    args :\n",
        "         - lambda_ : un nombre réel strictement positif\n",
        "         - x : étant un entier naturel, k = 0, 1, 2…\n",
        "         \n",
        "    returns :\n",
        "         - Ω : l'univers\n",
        "         - E(X) : Espérance de la variable aléatoire X\n",
        "         - Var(X) : Variance de la variable aléatoire X\n",
        "         - densité : probabilité de X = k\n",
        "         - repartition : probabilité de X <= k\n",
        "         - proba : les probabilités\n",
        "    \"\"\"\n",
        "    esp = lambda_\n",
        "    var = lambda_\n",
        "    densite = (lambda_ ** x * exp(- lambda_)) / factorial(x)\n",
        "    repation = 0\n",
        "    Ω = []\n",
        "    proba = []\n",
        "    for i in range(x+1):\n",
        "        Ω.append(i)\n",
        "        repation = repation + (lambda_ ** i * exp(- lambda_)) / factorial(i)\n",
        "        proba.append((lambda_ ** i * exp(- lambda_)) / factorial(i))\n",
        "    return Ω, esp, var, densite, repation, proba\n",
        "        "
      ]
    },
    {
      "cell_type": "code",
      "source": [
        "Ω1, esp1, var1, densite1, repartition1, proba1 = poisson(1, 100)\n",
        "Ω2, esp2, var2, densite2, repartition2, proba2 = poisson(4, 100)\n",
        "Ω3, esp3, var3, densite3, repartition3, proba3 = poisson(10, 100)"
      ],
      "metadata": {
        "id": "P6jqZNtsiNU2"
      },
      "execution_count": 3,
      "outputs": []
    },
    {
      "cell_type": "code",
      "source": [
        "repartition1, repartition2, repartition3"
      ],
      "metadata": {
        "colab": {
          "base_uri": "https://localhost:8080/"
        },
        "id": "vWhBQURpoSHS",
        "outputId": "7920449c-34a8-46fa-e82f-cd09a489699c"
      },
      "execution_count": 4,
      "outputs": [
        {
          "output_type": "execute_result",
          "data": {
            "text/plain": [
              "(1.0, 0.9999999999999997, 0.9999999999999999)"
            ]
          },
          "metadata": {},
          "execution_count": 4
        }
      ]
    },
    {
      "cell_type": "code",
      "source": [
        "df = pd.DataFrame(data=[proba1, proba2, proba3]).T\n",
        "df.columns = [\"Lambda = 1\", 'Lambda = 4', \"Lambda = 10\"]\n",
        "df"
      ],
      "metadata": {
        "colab": {
          "base_uri": "https://localhost:8080/",
          "height": 424
        },
        "id": "CucoGggrkmxE",
        "outputId": "e597463b-bcce-4e13-ef9a-c293cd4f7b45"
      },
      "execution_count": 5,
      "outputs": [
        {
          "output_type": "execute_result",
          "data": {
            "text/plain": [
              "        Lambda = 1     Lambda = 4   Lambda = 10\n",
              "0     3.678794e-01   1.831564e-02  4.539993e-05\n",
              "1     3.678794e-01   7.326256e-02  4.539993e-04\n",
              "2     1.839397e-01   1.465251e-01  2.269996e-03\n",
              "3     6.131324e-02   1.953668e-01  7.566655e-03\n",
              "4     1.532831e-02   1.953668e-01  1.891664e-02\n",
              "..             ...            ...           ...\n",
              "96   3.709666e-151   1.159339e-94  4.578092e-59\n",
              "97   3.824398e-153   4.780781e-96  4.719683e-60\n",
              "98   3.902447e-155   1.951339e-97  4.816003e-61\n",
              "99   3.941866e-157   7.884199e-99  4.864649e-62\n",
              "100  3.941866e-159  3.153679e-100  4.864649e-63\n",
              "\n",
              "[101 rows x 3 columns]"
            ],
            "text/html": [
              "\n",
              "  <div id=\"df-ac79e46d-a345-4116-bbfb-0421f1720de5\">\n",
              "    <div class=\"colab-df-container\">\n",
              "      <div>\n",
              "<style scoped>\n",
              "    .dataframe tbody tr th:only-of-type {\n",
              "        vertical-align: middle;\n",
              "    }\n",
              "\n",
              "    .dataframe tbody tr th {\n",
              "        vertical-align: top;\n",
              "    }\n",
              "\n",
              "    .dataframe thead th {\n",
              "        text-align: right;\n",
              "    }\n",
              "</style>\n",
              "<table border=\"1\" class=\"dataframe\">\n",
              "  <thead>\n",
              "    <tr style=\"text-align: right;\">\n",
              "      <th></th>\n",
              "      <th>Lambda = 1</th>\n",
              "      <th>Lambda = 4</th>\n",
              "      <th>Lambda = 10</th>\n",
              "    </tr>\n",
              "  </thead>\n",
              "  <tbody>\n",
              "    <tr>\n",
              "      <th>0</th>\n",
              "      <td>3.678794e-01</td>\n",
              "      <td>1.831564e-02</td>\n",
              "      <td>4.539993e-05</td>\n",
              "    </tr>\n",
              "    <tr>\n",
              "      <th>1</th>\n",
              "      <td>3.678794e-01</td>\n",
              "      <td>7.326256e-02</td>\n",
              "      <td>4.539993e-04</td>\n",
              "    </tr>\n",
              "    <tr>\n",
              "      <th>2</th>\n",
              "      <td>1.839397e-01</td>\n",
              "      <td>1.465251e-01</td>\n",
              "      <td>2.269996e-03</td>\n",
              "    </tr>\n",
              "    <tr>\n",
              "      <th>3</th>\n",
              "      <td>6.131324e-02</td>\n",
              "      <td>1.953668e-01</td>\n",
              "      <td>7.566655e-03</td>\n",
              "    </tr>\n",
              "    <tr>\n",
              "      <th>4</th>\n",
              "      <td>1.532831e-02</td>\n",
              "      <td>1.953668e-01</td>\n",
              "      <td>1.891664e-02</td>\n",
              "    </tr>\n",
              "    <tr>\n",
              "      <th>...</th>\n",
              "      <td>...</td>\n",
              "      <td>...</td>\n",
              "      <td>...</td>\n",
              "    </tr>\n",
              "    <tr>\n",
              "      <th>96</th>\n",
              "      <td>3.709666e-151</td>\n",
              "      <td>1.159339e-94</td>\n",
              "      <td>4.578092e-59</td>\n",
              "    </tr>\n",
              "    <tr>\n",
              "      <th>97</th>\n",
              "      <td>3.824398e-153</td>\n",
              "      <td>4.780781e-96</td>\n",
              "      <td>4.719683e-60</td>\n",
              "    </tr>\n",
              "    <tr>\n",
              "      <th>98</th>\n",
              "      <td>3.902447e-155</td>\n",
              "      <td>1.951339e-97</td>\n",
              "      <td>4.816003e-61</td>\n",
              "    </tr>\n",
              "    <tr>\n",
              "      <th>99</th>\n",
              "      <td>3.941866e-157</td>\n",
              "      <td>7.884199e-99</td>\n",
              "      <td>4.864649e-62</td>\n",
              "    </tr>\n",
              "    <tr>\n",
              "      <th>100</th>\n",
              "      <td>3.941866e-159</td>\n",
              "      <td>3.153679e-100</td>\n",
              "      <td>4.864649e-63</td>\n",
              "    </tr>\n",
              "  </tbody>\n",
              "</table>\n",
              "<p>101 rows × 3 columns</p>\n",
              "</div>\n",
              "      <button class=\"colab-df-convert\" onclick=\"convertToInteractive('df-ac79e46d-a345-4116-bbfb-0421f1720de5')\"\n",
              "              title=\"Convert this dataframe to an interactive table.\"\n",
              "              style=\"display:none;\">\n",
              "        \n",
              "  <svg xmlns=\"http://www.w3.org/2000/svg\" height=\"24px\"viewBox=\"0 0 24 24\"\n",
              "       width=\"24px\">\n",
              "    <path d=\"M0 0h24v24H0V0z\" fill=\"none\"/>\n",
              "    <path d=\"M18.56 5.44l.94 2.06.94-2.06 2.06-.94-2.06-.94-.94-2.06-.94 2.06-2.06.94zm-11 1L8.5 8.5l.94-2.06 2.06-.94-2.06-.94L8.5 2.5l-.94 2.06-2.06.94zm10 10l.94 2.06.94-2.06 2.06-.94-2.06-.94-.94-2.06-.94 2.06-2.06.94z\"/><path d=\"M17.41 7.96l-1.37-1.37c-.4-.4-.92-.59-1.43-.59-.52 0-1.04.2-1.43.59L10.3 9.45l-7.72 7.72c-.78.78-.78 2.05 0 2.83L4 21.41c.39.39.9.59 1.41.59.51 0 1.02-.2 1.41-.59l7.78-7.78 2.81-2.81c.8-.78.8-2.07 0-2.86zM5.41 20L4 18.59l7.72-7.72 1.47 1.35L5.41 20z\"/>\n",
              "  </svg>\n",
              "      </button>\n",
              "      \n",
              "  <style>\n",
              "    .colab-df-container {\n",
              "      display:flex;\n",
              "      flex-wrap:wrap;\n",
              "      gap: 12px;\n",
              "    }\n",
              "\n",
              "    .colab-df-convert {\n",
              "      background-color: #E8F0FE;\n",
              "      border: none;\n",
              "      border-radius: 50%;\n",
              "      cursor: pointer;\n",
              "      display: none;\n",
              "      fill: #1967D2;\n",
              "      height: 32px;\n",
              "      padding: 0 0 0 0;\n",
              "      width: 32px;\n",
              "    }\n",
              "\n",
              "    .colab-df-convert:hover {\n",
              "      background-color: #E2EBFA;\n",
              "      box-shadow: 0px 1px 2px rgba(60, 64, 67, 0.3), 0px 1px 3px 1px rgba(60, 64, 67, 0.15);\n",
              "      fill: #174EA6;\n",
              "    }\n",
              "\n",
              "    [theme=dark] .colab-df-convert {\n",
              "      background-color: #3B4455;\n",
              "      fill: #D2E3FC;\n",
              "    }\n",
              "\n",
              "    [theme=dark] .colab-df-convert:hover {\n",
              "      background-color: #434B5C;\n",
              "      box-shadow: 0px 1px 3px 1px rgba(0, 0, 0, 0.15);\n",
              "      filter: drop-shadow(0px 1px 2px rgba(0, 0, 0, 0.3));\n",
              "      fill: #FFFFFF;\n",
              "    }\n",
              "  </style>\n",
              "\n",
              "      <script>\n",
              "        const buttonEl =\n",
              "          document.querySelector('#df-ac79e46d-a345-4116-bbfb-0421f1720de5 button.colab-df-convert');\n",
              "        buttonEl.style.display =\n",
              "          google.colab.kernel.accessAllowed ? 'block' : 'none';\n",
              "\n",
              "        async function convertToInteractive(key) {\n",
              "          const element = document.querySelector('#df-ac79e46d-a345-4116-bbfb-0421f1720de5');\n",
              "          const dataTable =\n",
              "            await google.colab.kernel.invokeFunction('convertToInteractive',\n",
              "                                                     [key], {});\n",
              "          if (!dataTable) return;\n",
              "\n",
              "          const docLinkHtml = 'Like what you see? Visit the ' +\n",
              "            '<a target=\"_blank\" href=https://colab.research.google.com/notebooks/data_table.ipynb>data table notebook</a>'\n",
              "            + ' to learn more about interactive tables.';\n",
              "          element.innerHTML = '';\n",
              "          dataTable['output_type'] = 'display_data';\n",
              "          await google.colab.output.renderOutput(dataTable, element);\n",
              "          const docLink = document.createElement('div');\n",
              "          docLink.innerHTML = docLinkHtml;\n",
              "          element.appendChild(docLink);\n",
              "        }\n",
              "      </script>\n",
              "    </div>\n",
              "  </div>\n",
              "  "
            ]
          },
          "metadata": {},
          "execution_count": 5
        }
      ]
    },
    {
      "cell_type": "markdown",
      "source": [
        "## Visualisation des courbes de densité"
      ],
      "metadata": {
        "id": "YXpODohxBFch"
      }
    },
    {
      "cell_type": "code",
      "source": [
        "plt.figure(figsize=(12, 8))\n",
        "plt.plot(df['Lambda = 1'], color=\"red\", label=\"Poisson distribution Lambda = 1\")\n",
        "plt.plot(df['Lambda = 4'], color=\"green\", label=\"Poisson distribution Lambda = 4\")\n",
        "plt.plot(df['Lambda = 10'], color=\"blue\", label=\"Poisson distribution Lambda = 10\")\n",
        "plt.legend()\n",
        "plt.title(\"Poisson distribution density\")"
      ],
      "metadata": {
        "colab": {
          "base_uri": "https://localhost:8080/",
          "height": 516
        },
        "id": "HzCLUi-4_sRY",
        "outputId": "97a57a02-3ed8-48c8-bc04-e1dead78cd5f"
      },
      "execution_count": 14,
      "outputs": [
        {
          "output_type": "execute_result",
          "data": {
            "text/plain": [
              "Text(0.5, 1.0, 'Poisson distribution density')"
            ]
          },
          "metadata": {},
          "execution_count": 14
        },
        {
          "output_type": "display_data",
          "data": {
            "text/plain": [
              "<Figure size 864x576 with 1 Axes>"
            ],
            "image/png": "[encoded data removed]"
          },
          "metadata": {
            "needs_background": "light"
          }
        }
      ]
    },
    {
      "cell_type": "code",
      "source": [
        "# px.bar(y=df['Lambda = 1'], title = f\"Poisson distribution Lambda = 1\")"
      ],
      "metadata": {
        "id": "XvujtJCyisoW"
      },
      "execution_count": 15,
      "outputs": []
    },
    {
      "cell_type": "code",
      "source": [
        "# px.bar(y=df['Lambda = 4'], title = f\"Poisson distribution Lambda = 4\")"
      ],
      "metadata": {
        "id": "dW5h_c3GmqFf"
      },
      "execution_count": 16,
      "outputs": []
    },
    {
      "cell_type": "code",
      "source": [
        "# px.bar(y=df['Lambda = 10'], title = f\"Poisson distribution Lambda = 10\")"
      ],
      "metadata": {
        "id": "uePiuQcYmqzY"
      },
      "execution_count": 17,
      "outputs": []
    }
  ]
}